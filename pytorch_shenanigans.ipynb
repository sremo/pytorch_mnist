{
 "cells": [
  {
   "cell_type": "code",
   "execution_count": 1,
   "metadata": {},
   "outputs": [],
   "source": [
    "import torch.nn as nn\n",
    "import torch\n",
    "import torchvision\n",
    "import torch.optim as optim\n",
    "import torch.nn.functional as F\n",
    "import sys\n",
    "sys.path.append('../mnist')\n",
    "import matplotlib.pyplot as plt\n",
    "\n",
    "import cnn_model as model\n",
    "from torch.autograd import Variable\n"
   ]
  },
  {
   "cell_type": "markdown",
   "metadata": {},
   "source": [
    "In building a model you will need: \n",
    "- a model architecture with model parameters\n",
    "- an optimizer with optimizer parameters\n",
    "- a training and a testing dataset\n"
   ]
  },
  {
   "cell_type": "markdown",
   "metadata": {},
   "source": [
    "The training and testing dataset is fed to the model in batches (of size specified below) using data loaders."
   ]
  },
  {
   "cell_type": "code",
   "execution_count": 2,
   "metadata": {},
   "outputs": [],
   "source": [
    "batch_size_train = 4\n",
    "batch_size_test = 4\n",
    "\n",
    "train_loader = torch.utils.data.DataLoader(\n",
    "  torchvision.datasets.MNIST('./files/', train=True, download=True,\n",
    "                             transform=torchvision.transforms.Compose([\n",
    "                               torchvision.transforms.ToTensor(),\n",
    "                               torchvision.transforms.Normalize(\n",
    "                                 (0.1307,), (0.3081,))\n",
    "                             ])),\n",
    "  batch_size=batch_size_train, shuffle=True)\n",
    "\n",
    "test_loader = torch.utils.data.DataLoader(\n",
    "  torchvision.datasets.MNIST('./files/', train=False, download=True,\n",
    "                             transform=torchvision.transforms.Compose([\n",
    "                               torchvision.transforms.ToTensor(),\n",
    "                               torchvision.transforms.Normalize(\n",
    "                                 (0.1307,), (0.3081,))\n",
    "                             ])),\n",
    "  batch_size=batch_size_test, shuffle=True)"
   ]
  },
  {
   "cell_type": "markdown",
   "metadata": {},
   "source": [
    "The model and the model training are specified by a parameters dictionary. Very little validation or sanity checking is done on the parameters at this point (#TODO). If no parameters are specified, a set of default ones will be used."
   ]
  },
  {
   "cell_type": "code",
   "execution_count": 3,
   "metadata": {},
   "outputs": [],
   "source": [
    "parameters = {\n",
    "            'max_pool_kernel_size':2,\n",
    "            'max_pool_stride':2,\n",
    "            'max_pool_padding':0,\n",
    "\n",
    "            'conv1_kernel_size':3,\n",
    "            'conv1_stride':1,\n",
    "            'conv1_padding':1,\n",
    "            'conv1_in_channels':1,\n",
    "            'conv1_out_channels':32,\n",
    "\n",
    "            'conv2_kernel_size':3,\n",
    "            'conv2_stride':1,\n",
    "            'conv2_padding':1,\n",
    "            'conv2_in_channels':32,\n",
    "            'conv2_out_channels':64,\n",
    "\n",
    "            'conv3_kernel_size':3,\n",
    "            'conv3_stride':1,\n",
    "            'conv3_padding':1,\n",
    "            'conv3_in_channels':64,\n",
    "            'conv3_out_channels': 256,\n",
    "\n",
    "            'linear1_output':1000,\n",
    "            'linear2_output':500,\n",
    "\n",
    "            'learning_rate':0.005,\n",
    "            'momentum':0.5\n",
    "}"
   ]
  },
  {
   "cell_type": "markdown",
   "metadata": {},
   "source": [
    "The model architecture and the optimizers can be defined and build with the provided constructors. Training and evaluating is done by calling the relevant methods."
   ]
  },
  {
   "cell_type": "code",
   "execution_count": null,
   "metadata": {
    "scrolled": true
   },
   "outputs": [
    {
     "name": "stderr",
     "output_type": "stream",
     "text": [
      "/Users/remo/Documents/Projects/learn/pytorch_mnist/cnn_model.py:115: UserWarning: Implicit dimension choice for log_softmax has been deprecated. Change the call to include dim=X as an argument.\n",
      "  return F.log_softmax(o)\n"
     ]
    },
    {
     "name": "stdout",
     "output_type": "stream",
     "text": [
      "Train epoch: 1 [0/60000 (0%)]\t Loss: 2.313291\n"
     ]
    }
   ],
   "source": [
    "net = model.Model(parameters)\n",
    "optimizer = net.default_optimizer(learning_rate=0.005, momentum=0.5)\n",
    "num_epochs = 1\n",
    "net.train_model(num_epochs,optimizer, train_loader)\n",
    "net.eval_model(test_loader)"
   ]
  },
  {
   "cell_type": "markdown",
   "metadata": {},
   "source": [
    "Optimal (where optimality depends on the chosen metric) parameters can be found by hyperparameter tuning. This is done by sequentially (not parallely at this point) evaluating a set of parameters. In the example below, we are optimizing on the number of channels of the third convolutional layer."
   ]
  },
  {
   "cell_type": "code",
   "execution_count": null,
   "metadata": {
    "scrolled": true
   },
   "outputs": [],
   "source": [
    "parameters_to_tune = {\n",
    "            'max_pool_kernel_size':2,\n",
    "            'max_pool_stride':2,\n",
    "            'max_pool_padding':0,\n",
    "\n",
    "            'conv1_kernel_size':3,\n",
    "            'conv1_stride':1,\n",
    "            'conv1_padding':1,\n",
    "            'conv1_in_channels':1,\n",
    "            'conv1_out_channels':32,\n",
    "\n",
    "            'conv2_kernel_size':3,\n",
    "            'conv2_stride':1,\n",
    "            'conv2_padding':1,\n",
    "            'conv2_in_channels':32,\n",
    "            'conv2_out_channels':64,\n",
    "\n",
    "            'conv3_kernel_size':3,\n",
    "            'conv3_stride':1,\n",
    "            'conv3_padding':1,\n",
    "            'conv3_in_channels':64,\n",
    "            'conv3_out_channels': [32,64,128,256],\n",
    "\n",
    "            'linear1_output':1000,\n",
    "            'linear2_output':500,\n",
    "\n",
    "            'learning_rate':0.005,\n",
    "            'momentum':0.5\n",
    "}\n",
    "optimal = model.hyperpameter_tuning(test_loader, train_loader,'accuracy',parameters)"
   ]
  }
 ],
 "metadata": {
  "kernelspec": {
   "display_name": "Python 3",
   "language": "python",
   "name": "python3"
  },
  "language_info": {
   "codemirror_mode": {
    "name": "ipython",
    "version": 3
   },
   "file_extension": ".py",
   "mimetype": "text/x-python",
   "name": "python",
   "nbconvert_exporter": "python",
   "pygments_lexer": "ipython3",
   "version": "3.6.5"
  }
 },
 "nbformat": 4,
 "nbformat_minor": 2
}
