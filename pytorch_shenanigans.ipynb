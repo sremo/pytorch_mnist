{
 "cells": [
  {
   "cell_type": "code",
   "execution_count": 2,
   "metadata": {},
   "outputs": [],
   "source": [
    "import torch.nn as nn\n",
    "import torch\n",
    "import torchvision\n",
    "import torch.optim as optim\n",
    "import torch.nn.functional as F\n",
    "import sys\n",
    "sys.path.append('../mnist')\n",
    "import matplotlib.pyplot as plt\n",
    "\n",
    "import cnn_model as model\n",
    "from torch.autograd import Variable\n"
   ]
  },
  {
   "cell_type": "markdown",
   "metadata": {},
   "source": [
    "In building a model you will need: \n",
    "- a model architecture with model parameters\n",
    "- an optimizer with optimizer parameters\n",
    "- a training and a testing dataset\n"
   ]
  },
  {
   "cell_type": "markdown",
   "metadata": {},
   "source": [
    "The training and testing dataset is fed to the model in batches (of size specified below) using data loaders."
   ]
  },
  {
   "cell_type": "code",
   "execution_count": 3,
   "metadata": {},
   "outputs": [],
   "source": [
    "batch_size_train = 256\n",
    "batch_size_test = 256\n",
    "\n",
    "train_loader = torch.utils.data.DataLoader(\n",
    "  torchvision.datasets.MNIST('./files/', train=True, download=True,\n",
    "                             transform=torchvision.transforms.Compose([\n",
    "                               torchvision.transforms.ToTensor(),\n",
    "                               torchvision.transforms.Normalize(\n",
    "                                 (0.1307,), (0.3081,))\n",
    "                             ])),\n",
    "  batch_size=batch_size_train, shuffle=True,pin_memory=True)\n",
    "\n",
    "test_loader = torch.utils.data.DataLoader(\n",
    "  torchvision.datasets.MNIST('./files/', train=False, download=True,\n",
    "                             transform=torchvision.transforms.Compose([\n",
    "                               torchvision.transforms.ToTensor(),\n",
    "                               torchvision.transforms.Normalize(\n",
    "                                 (0.1307,), (0.3081,))\n",
    "                             ])),\n",
    "  batch_size=batch_size_test, shuffle=True,pin_memory=True)"
   ]
  },
  {
   "cell_type": "markdown",
   "metadata": {},
   "source": [
    "The model and the model training are specified by a parameters dictionary. Very little validation or sanity checking is done on the parameters at this point (#TODO). If no parameters are specified, a set of default ones will be used."
   ]
  },
  {
   "cell_type": "code",
   "execution_count": 7,
   "metadata": {},
   "outputs": [],
   "source": [
    "parameters = {\n",
    "            'max_pool_kernel_size':2,\n",
    "            'max_pool_stride':2,\n",
    "            'max_pool_padding':0,\n",
    "\n",
    "            'conv1_kernel_size':3,\n",
    "            'conv1_stride':1,\n",
    "            'conv1_padding':1,\n",
    "            'conv1_in_channels':1,\n",
    "            'conv1_out_channels':32,\n",
    "\n",
    "            'conv2_kernel_size':3,\n",
    "            'conv2_stride':1,\n",
    "            'conv2_padding':1,\n",
    "            'conv2_in_channels':32,\n",
    "            'conv2_out_channels':64,\n",
    "\n",
    "            'conv3_kernel_size':3,\n",
    "            'conv3_stride':1,\n",
    "            'conv3_padding':1,\n",
    "            'conv3_in_channels':64,\n",
    "            'conv3_out_channels': 256,\n",
    "\n",
    "            'linear1_output':1000,\n",
    "            'linear2_output':500,\n",
    "\n",
    "            'learning_rate':0.005,\n",
    "            'momentum':0.5\n",
    "}"
   ]
  },
  {
   "cell_type": "markdown",
   "metadata": {},
   "source": [
    "The model architecture and the optimizers can be defined and build with the provided constructors. Training and evaluating is done by calling the relevant methods."
   ]
  },
  {
   "cell_type": "code",
   "execution_count": null,
   "metadata": {
    "scrolled": true
   },
   "outputs": [
    {
     "name": "stdout",
     "output_type": "stream",
     "text": [
      "Train epoch: 1 [0/60000 (0%)]\t Loss: 2.303548\n"
     ]
    }
   ],
   "source": [
    "net = model.Model(parameters)\n",
    "\n",
    "optimizer = model.default_optimizer(net, learning_rate=0.005, momentum=0.5)\n",
    "num_epochs = 1\n",
    "use_cuda = False\n",
    "if use_cuda:\n",
    "    net = net.cuda()\n",
    "if use_cuda and torch.cuda.device_count() > 1:\n",
    "    net = nn.DataParallel(net)\n",
    "model.train_model(net, num_epochs,optimizer, train_loader, log_interval = 50,use_cuda=use_cuda)\n",
    "model.eval_model(net, test_loader, use_cuda=use_cuda)"
   ]
  },
  {
   "cell_type": "markdown",
   "metadata": {},
   "source": [
    "Optimal (where optimality depends on the chosen metric) parameters can be found by hyperparameter tuning. This is done by sequentially (not parallely at this point) evaluating a set of parameters. In the example below, we are optimizing on the number of channels of the third convolutional layer."
   ]
  },
  {
   "cell_type": "code",
   "execution_count": 4,
   "metadata": {
    "scrolled": true
   },
   "outputs": [
    {
     "name": "stdout",
     "output_type": "stream",
     "text": [
      "{'max_pool_kernel_size': 2, 'max_pool_stride': 2, 'max_pool_padding': 0, 'conv1_kernel_size': 3, 'conv1_stride': 1, 'conv1_padding': 1, 'conv1_in_channels': 1, 'conv1_out_channels': 32, 'conv2_kernel_size': 3, 'conv2_stride': 1, 'conv2_padding': 1, 'conv2_in_channels': 32, 'conv2_out_channels': 64, 'conv3_kernel_size': 3, 'conv3_stride': 1, 'conv3_padding': 1, 'conv3_in_channels': 64, 'conv3_out_channels': [32, 64, 128, 256], 'linear1_output': 1000, 'linear2_output': 500, 'learning_rate': 0.005, 'momentum': 0.5}\n",
      "current parameters:  {'max_pool_kernel_size': 2, 'max_pool_stride': 2, 'max_pool_padding': 0, 'conv1_kernel_size': 3, 'conv1_stride': 1, 'conv1_padding': 1, 'conv1_in_channels': 1, 'conv1_out_channels': 32, 'conv2_kernel_size': 3, 'conv2_stride': 1, 'conv2_padding': 1, 'conv2_in_channels': 32, 'conv2_out_channels': 64, 'conv3_kernel_size': 3, 'conv3_stride': 1, 'conv3_padding': 1, 'conv3_in_channels': 64, 'conv3_out_channels': 32, 'linear1_output': 1000, 'linear2_output': 500, 'learning_rate': 0.005, 'momentum': 0.5}\n"
     ]
    },
    {
     "name": "stderr",
     "output_type": "stream",
     "text": [
      "/home/remo_storni/projects/pytorch_mnist/cnn_model.py:126: UserWarning: Implicit dimension choice for log_softmax has been deprecated. Change the call to include dim=X as an argument.\n",
      "  so = F.log_softmax(o)\n",
      "/opt/anaconda3/lib/python3.7/site-packages/torch/nn/_reduction.py:49: UserWarning: size_average and reduce args will be deprecated, please use reduction='sum' instead.\n",
      "  warnings.warn(warning.format(ret))\n"
     ]
    },
    {
     "name": "stdout",
     "output_type": "stream",
     "text": [
      "\n",
      "Test set: Avg. loss: 2.3016, Accuracy: 1160/10000 (11%)\n",
      "\n",
      "Train epoch: 1 [0/60000 (0%)]\t Loss: 2.303574\n",
      "Train epoch: 1 [2560/60000 (4%)]\t Loss: 2.296616\n",
      "Train epoch: 1 [5120/60000 (9%)]\t Loss: 2.297343\n",
      "Train epoch: 1 [7680/60000 (13%)]\t Loss: 2.293498\n",
      "Train epoch: 1 [10240/60000 (17%)]\t Loss: 2.292812\n",
      "Train epoch: 1 [12800/60000 (21%)]\t Loss: 2.290650\n",
      "Train epoch: 1 [15360/60000 (26%)]\t Loss: 2.288625\n",
      "Train epoch: 1 [17920/60000 (30%)]\t Loss: 2.283330\n",
      "Train epoch: 1 [20480/60000 (34%)]\t Loss: 2.279321\n",
      "Train epoch: 1 [23040/60000 (38%)]\t Loss: 2.273386\n",
      "Train epoch: 1 [25600/60000 (43%)]\t Loss: 2.275061\n",
      "Train epoch: 1 [28160/60000 (47%)]\t Loss: 2.267590\n",
      "Train epoch: 1 [30720/60000 (51%)]\t Loss: 2.261456\n",
      "Train epoch: 1 [33280/60000 (55%)]\t Loss: 2.254593\n",
      "Train epoch: 1 [35840/60000 (60%)]\t Loss: 2.246174\n",
      "Train epoch: 1 [38400/60000 (64%)]\t Loss: 2.241992\n",
      "Train epoch: 1 [40960/60000 (68%)]\t Loss: 2.231632\n",
      "Train epoch: 1 [43520/60000 (72%)]\t Loss: 2.226314\n",
      "Train epoch: 1 [46080/60000 (77%)]\t Loss: 2.214533\n",
      "Train epoch: 1 [48640/60000 (81%)]\t Loss: 2.200266\n",
      "Train epoch: 1 [51200/60000 (85%)]\t Loss: 2.192208\n",
      "Train epoch: 1 [53760/60000 (89%)]\t Loss: 2.151655\n",
      "Train epoch: 1 [56320/60000 (94%)]\t Loss: 2.109605\n",
      "Train epoch: 1 [58880/60000 (98%)]\t Loss: 2.072740\n",
      "\n",
      "Test set: Avg. loss: 2.0542, Accuracy: 6227/10000 (62%)\n",
      "\n",
      "current parameters:  {'max_pool_kernel_size': 2, 'max_pool_stride': 2, 'max_pool_padding': 0, 'conv1_kernel_size': 3, 'conv1_stride': 1, 'conv1_padding': 1, 'conv1_in_channels': 1, 'conv1_out_channels': 32, 'conv2_kernel_size': 3, 'conv2_stride': 1, 'conv2_padding': 1, 'conv2_in_channels': 32, 'conv2_out_channels': 64, 'conv3_kernel_size': 3, 'conv3_stride': 1, 'conv3_padding': 1, 'conv3_in_channels': 64, 'conv3_out_channels': 64, 'linear1_output': 1000, 'linear2_output': 500, 'learning_rate': 0.005, 'momentum': 0.5}\n",
      "\n",
      "Test set: Avg. loss: 2.3022, Accuracy: 974/10000 (9%)\n",
      "\n",
      "Train epoch: 1 [0/60000 (0%)]\t Loss: 2.305088\n",
      "Train epoch: 1 [2560/60000 (4%)]\t Loss: 2.300198\n",
      "Train epoch: 1 [5120/60000 (9%)]\t Loss: 2.297605\n",
      "Train epoch: 1 [7680/60000 (13%)]\t Loss: 2.297161\n",
      "Train epoch: 1 [10240/60000 (17%)]\t Loss: 2.292476\n",
      "Train epoch: 1 [12800/60000 (21%)]\t Loss: 2.291706\n",
      "Train epoch: 1 [15360/60000 (26%)]\t Loss: 2.289752\n",
      "Train epoch: 1 [17920/60000 (30%)]\t Loss: 2.285357\n",
      "Train epoch: 1 [20480/60000 (34%)]\t Loss: 2.285178\n",
      "Train epoch: 1 [23040/60000 (38%)]\t Loss: 2.280650\n",
      "Train epoch: 1 [25600/60000 (43%)]\t Loss: 2.281157\n",
      "Train epoch: 1 [28160/60000 (47%)]\t Loss: 2.275322\n",
      "Train epoch: 1 [30720/60000 (51%)]\t Loss: 2.271435\n",
      "Train epoch: 1 [33280/60000 (55%)]\t Loss: 2.272768\n",
      "Train epoch: 1 [35840/60000 (60%)]\t Loss: 2.267860\n",
      "Train epoch: 1 [38400/60000 (64%)]\t Loss: 2.262366\n",
      "Train epoch: 1 [40960/60000 (68%)]\t Loss: 2.252801\n",
      "Train epoch: 1 [43520/60000 (72%)]\t Loss: 2.254662\n",
      "Train epoch: 1 [46080/60000 (77%)]\t Loss: 2.250100\n",
      "Train epoch: 1 [48640/60000 (81%)]\t Loss: 2.244447\n",
      "Train epoch: 1 [51200/60000 (85%)]\t Loss: 2.230591\n",
      "Train epoch: 1 [53760/60000 (89%)]\t Loss: 2.218362\n",
      "Train epoch: 1 [56320/60000 (94%)]\t Loss: 2.205967\n",
      "Train epoch: 1 [58880/60000 (98%)]\t Loss: 2.195015\n",
      "\n",
      "Test set: Avg. loss: 2.1910, Accuracy: 5063/10000 (50%)\n",
      "\n",
      "current parameters:  {'max_pool_kernel_size': 2, 'max_pool_stride': 2, 'max_pool_padding': 0, 'conv1_kernel_size': 3, 'conv1_stride': 1, 'conv1_padding': 1, 'conv1_in_channels': 1, 'conv1_out_channels': 32, 'conv2_kernel_size': 3, 'conv2_stride': 1, 'conv2_padding': 1, 'conv2_in_channels': 32, 'conv2_out_channels': 64, 'conv3_kernel_size': 3, 'conv3_stride': 1, 'conv3_padding': 1, 'conv3_in_channels': 64, 'conv3_out_channels': 128, 'linear1_output': 1000, 'linear2_output': 500, 'learning_rate': 0.005, 'momentum': 0.5}\n",
      "\n",
      "Test set: Avg. loss: 2.3054, Accuracy: 892/10000 (8%)\n",
      "\n",
      "Train epoch: 1 [0/60000 (0%)]\t Loss: 2.305419\n",
      "Train epoch: 1 [2560/60000 (4%)]\t Loss: 2.296839\n",
      "Train epoch: 1 [5120/60000 (9%)]\t Loss: 2.297395\n",
      "Train epoch: 1 [7680/60000 (13%)]\t Loss: 2.291419\n",
      "Train epoch: 1 [10240/60000 (17%)]\t Loss: 2.290106\n",
      "Train epoch: 1 [12800/60000 (21%)]\t Loss: 2.283713\n",
      "Train epoch: 1 [15360/60000 (26%)]\t Loss: 2.283376\n",
      "Train epoch: 1 [17920/60000 (30%)]\t Loss: 2.275320\n",
      "Train epoch: 1 [20480/60000 (34%)]\t Loss: 2.273029\n",
      "Train epoch: 1 [23040/60000 (38%)]\t Loss: 2.268525\n",
      "Train epoch: 1 [25600/60000 (43%)]\t Loss: 2.257877\n",
      "Train epoch: 1 [28160/60000 (47%)]\t Loss: 2.255503\n",
      "Train epoch: 1 [30720/60000 (51%)]\t Loss: 2.251655\n",
      "Train epoch: 1 [33280/60000 (55%)]\t Loss: 2.239810\n",
      "Train epoch: 1 [35840/60000 (60%)]\t Loss: 2.226036\n",
      "Train epoch: 1 [38400/60000 (64%)]\t Loss: 2.214115\n",
      "Train epoch: 1 [40960/60000 (68%)]\t Loss: 2.192359\n",
      "Train epoch: 1 [43520/60000 (72%)]\t Loss: 2.176968\n",
      "Train epoch: 1 [46080/60000 (77%)]\t Loss: 2.165708\n",
      "Train epoch: 1 [48640/60000 (81%)]\t Loss: 2.119867\n",
      "Train epoch: 1 [51200/60000 (85%)]\t Loss: 2.093768\n",
      "Train epoch: 1 [53760/60000 (89%)]\t Loss: 2.040269\n",
      "Train epoch: 1 [56320/60000 (94%)]\t Loss: 1.978252\n",
      "Train epoch: 1 [58880/60000 (98%)]\t Loss: 1.889713\n",
      "\n",
      "Test set: Avg. loss: 1.8455, Accuracy: 6693/10000 (66%)\n",
      "\n",
      "current parameters:  {'max_pool_kernel_size': 2, 'max_pool_stride': 2, 'max_pool_padding': 0, 'conv1_kernel_size': 3, 'conv1_stride': 1, 'conv1_padding': 1, 'conv1_in_channels': 1, 'conv1_out_channels': 32, 'conv2_kernel_size': 3, 'conv2_stride': 1, 'conv2_padding': 1, 'conv2_in_channels': 32, 'conv2_out_channels': 64, 'conv3_kernel_size': 3, 'conv3_stride': 1, 'conv3_padding': 1, 'conv3_in_channels': 64, 'conv3_out_channels': 256, 'linear1_output': 1000, 'linear2_output': 500, 'learning_rate': 0.005, 'momentum': 0.5}\n",
      "\n",
      "Test set: Avg. loss: 2.3021, Accuracy: 587/10000 (5%)\n",
      "\n",
      "Train epoch: 1 [0/60000 (0%)]\t Loss: 2.304118\n",
      "Train epoch: 1 [2560/60000 (4%)]\t Loss: 2.294517\n",
      "Train epoch: 1 [5120/60000 (9%)]\t Loss: 2.284853\n",
      "Train epoch: 1 [7680/60000 (13%)]\t Loss: 2.281209\n",
      "Train epoch: 1 [10240/60000 (17%)]\t Loss: 2.273641\n",
      "Train epoch: 1 [12800/60000 (21%)]\t Loss: 2.262809\n",
      "Train epoch: 1 [15360/60000 (26%)]\t Loss: 2.253004\n",
      "Train epoch: 1 [17920/60000 (30%)]\t Loss: 2.240531\n",
      "Train epoch: 1 [20480/60000 (34%)]\t Loss: 2.224834\n",
      "Train epoch: 1 [23040/60000 (38%)]\t Loss: 2.209932\n",
      "Train epoch: 1 [25600/60000 (43%)]\t Loss: 2.185340\n",
      "Train epoch: 1 [28160/60000 (47%)]\t Loss: 2.168247\n",
      "Train epoch: 1 [30720/60000 (51%)]\t Loss: 2.142700\n",
      "Train epoch: 1 [33280/60000 (55%)]\t Loss: 2.093350\n",
      "Train epoch: 1 [35840/60000 (60%)]\t Loss: 2.034733\n",
      "Train epoch: 1 [38400/60000 (64%)]\t Loss: 1.955121\n",
      "Train epoch: 1 [40960/60000 (68%)]\t Loss: 1.876155\n",
      "Train epoch: 1 [43520/60000 (72%)]\t Loss: 1.732616\n",
      "Train epoch: 1 [46080/60000 (77%)]\t Loss: 1.622461\n",
      "Train epoch: 1 [48640/60000 (81%)]\t Loss: 1.479251\n",
      "Train epoch: 1 [51200/60000 (85%)]\t Loss: 1.241109\n",
      "Train epoch: 1 [53760/60000 (89%)]\t Loss: 1.025631\n",
      "Train epoch: 1 [56320/60000 (94%)]\t Loss: 0.879180\n",
      "Train epoch: 1 [58880/60000 (98%)]\t Loss: 0.744385\n",
      "\n",
      "Test set: Avg. loss: 0.7748, Accuracy: 7572/10000 (75%)\n",
      "\n"
     ]
    }
   ],
   "source": [
    "parameters_to_tune = {\n",
    "            'max_pool_kernel_size':2,\n",
    "            'max_pool_stride':2,\n",
    "            'max_pool_padding':0,\n",
    "\n",
    "            'conv1_kernel_size':3,\n",
    "            'conv1_stride':1,\n",
    "            'conv1_padding':1,\n",
    "            'conv1_in_channels':1,\n",
    "            'conv1_out_channels':32,\n",
    "\n",
    "            'conv2_kernel_size':3,\n",
    "            'conv2_stride':1,\n",
    "            'conv2_padding':1,\n",
    "            'conv2_in_channels':32,\n",
    "            'conv2_out_channels':64,\n",
    "\n",
    "            'conv3_kernel_size':3,\n",
    "            'conv3_stride':1,\n",
    "            'conv3_padding':1,\n",
    "            'conv3_in_channels':64,\n",
    "            'conv3_out_channels': [32,64,128,256],\n",
    "\n",
    "            'linear1_output':1000,\n",
    "            'linear2_output':500,\n",
    "\n",
    "            'learning_rate':0.005,\n",
    "            'momentum':0.5\n",
    "}\n",
    "optimal = model.hyperpameter_tuning(test_loader, train_loader,parameters_to_tune,'accuracy')"
   ]
  },
  {
   "cell_type": "code",
   "execution_count": 5,
   "metadata": {},
   "outputs": [
    {
     "name": "stdout",
     "output_type": "stream",
     "text": [
      "(0.5063, {'max_pool_kernel_size': 2, 'max_pool_stride': 2, 'max_pool_padding': 0, 'conv1_kernel_size': 3, 'conv1_stride': 1, 'conv1_padding': 1, 'conv1_in_channels': 1, 'conv1_out_channels': 32, 'conv2_kernel_size': 3, 'conv2_stride': 1, 'conv2_padding': 1, 'conv2_in_channels': 32, 'conv2_out_channels': 64, 'conv3_kernel_size': 3, 'conv3_stride': 1, 'conv3_padding': 1, 'conv3_in_channels': 64, 'conv3_out_channels': 64, 'linear1_output': 1000, 'linear2_output': 500, 'learning_rate': 0.005, 'momentum': 0.5})\n"
     ]
    }
   ],
   "source": [
    "print(optimal)"
   ]
  }
 ],
 "metadata": {
  "kernelspec": {
   "display_name": "Python 3",
   "language": "python",
   "name": "python3"
  },
  "language_info": {
   "codemirror_mode": {
    "name": "ipython",
    "version": 3
   },
   "file_extension": ".py",
   "mimetype": "text/x-python",
   "name": "python",
   "nbconvert_exporter": "python",
   "pygments_lexer": "ipython3",
   "version": "3.7.1"
  }
 },
 "nbformat": 4,
 "nbformat_minor": 2
}
