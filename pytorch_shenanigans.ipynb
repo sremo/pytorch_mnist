{
 "cells": [
  {
   "cell_type": "code",
   "execution_count": 1,
   "metadata": {},
   "outputs": [],
   "source": [
    "import torch.nn as nn\n",
    "import torch\n",
    "import torchvision\n",
    "import torch.optim as optim\n",
    "import torch.nn.functional as F\n",
    "import sys\n",
    "sys.path.append('../mnist')\n",
    "import matplotlib.pyplot as plt\n",
    "\n",
    "import cnn_model as model\n",
    "from torch.autograd import Variable\n",
    "#from model import test_model\n",
    "#from model import train_model\n"
   ]
  },
  {
   "cell_type": "code",
   "execution_count": 2,
   "metadata": {},
   "outputs": [],
   "source": [
    "batch_size_train = 4\n",
    "batch_size_test = 4"
   ]
  },
  {
   "cell_type": "code",
   "execution_count": 3,
   "metadata": {},
   "outputs": [
    {
     "name": "stdout",
     "output_type": "stream",
     "text": [
      "Downloading http://yann.lecun.com/exdb/mnist/train-images-idx3-ubyte.gz\n",
      "Downloading http://yann.lecun.com/exdb/mnist/train-labels-idx1-ubyte.gz\n",
      "Downloading http://yann.lecun.com/exdb/mnist/t10k-images-idx3-ubyte.gz\n",
      "Downloading http://yann.lecun.com/exdb/mnist/t10k-labels-idx1-ubyte.gz\n",
      "Processing...\n",
      "Done!\n"
     ]
    }
   ],
   "source": [
    "train_loader = torch.utils.data.DataLoader(\n",
    "  torchvision.datasets.MNIST('./files/', train=True, download=True,\n",
    "                             transform=torchvision.transforms.Compose([\n",
    "                               torchvision.transforms.ToTensor(),\n",
    "                               torchvision.transforms.Normalize(\n",
    "                                 (0.1307,), (0.3081,))\n",
    "                             ])),\n",
    "  batch_size=batch_size_train, shuffle=True)\n",
    "\n",
    "test_loader = torch.utils.data.DataLoader(\n",
    "  torchvision.datasets.MNIST('./files/', train=False, download=True,\n",
    "                             transform=torchvision.transforms.Compose([\n",
    "                               torchvision.transforms.ToTensor(),\n",
    "                               torchvision.transforms.Normalize(\n",
    "                                 (0.1307,), (0.3081,))\n",
    "                             ])),\n",
    "  batch_size=batch_size_test, shuffle=True)"
   ]
  },
  {
   "cell_type": "code",
   "execution_count": 5,
   "metadata": {},
   "outputs": [],
   "source": [
    "parameters ={\n",
    "            'max_pool_kernel_size':2,\n",
    "            'max_pool_stride':2,\n",
    "            'max_pool_padding':0,\n",
    "            'conv1_kernel_size':3,\n",
    "            'conv1_stride':1,\n",
    "            'conv1_padding':1,\n",
    "            'conv1_in_channels':1,\n",
    "            'conv1_out_channels':32,\n",
    "\n",
    "                'conv2_kernel_size':3,\n",
    "                'conv2_stride':1,\n",
    "                'conv2_padding':1,\n",
    "                'conv2_in_channels':32,\n",
    "                'conv2_out_channels':64,\n",
    "\n",
    "            'conv3_kernel_size':3,\n",
    "            'conv3_stride':1,\n",
    "            'conv3_padding':1,\n",
    "            'conv3_in_channels':64,\n",
    "            'conv3_out_channels': 256,\n",
    "            'linear1_output':1000,\n",
    "            'linear2_output':500,\n",
    "            'learning_rate':0.005,\n",
    "            'momentum':0.5\n",
    "        }\n",
    "\n"
   ]
  },
  {
   "cell_type": "code",
   "execution_count": null,
   "metadata": {},
   "outputs": [
    {
     "name": "stderr",
     "output_type": "stream",
     "text": [
      "../mnist/cnn_model.py:92: UserWarning: Implicit dimension choice for log_softmax has been deprecated. Change the call to include dim=X as an argument.\n",
      "  return F.log_softmax(o)\n",
      "/Users/remo/anaconda3/lib/python3.6/site-packages/torch/nn/functional.py:52: UserWarning: size_average and reduce args will be deprecated, please use reduction='sum' instead.\n",
      "  warnings.warn(warning.format(ret))\n"
     ]
    },
    {
     "name": "stdout",
     "output_type": "stream",
     "text": [
      "\n",
      "Test set: Avg. loss: 2.3023, Accuracy: 712/10000 (7%)\n",
      "\n",
      "Train epoch: 1 [0/60000 (0%)]\t Loss: 2.290949\n",
      "Train epoch: 1 [4000/60000 (7%)]\t Loss: 0.165595\n"
     ]
    }
   ],
   "source": [
    "r = model.hyperpameter_tuning(test_loader, train_loader,'accuracy',parameters)"
   ]
  },
  {
   "cell_type": "code",
   "execution_count": 5,
   "metadata": {},
   "outputs": [
    {
     "name": "stdout",
     "output_type": "stream",
     "text": [
      "{'kernel_size': 3, 'stride': 1, 'padding': 1, 'in_channels': 32, 'out_channels': 64}\n",
      "Model(\n",
      "  (pooling): MaxPool2d(kernel_size=2, stride=2, padding=0, dilation=1, ceil_mode=False)\n",
      "  (conv1_layer): Conv2d(1, 32, kernel_size=(3, 3), stride=(1, 1), padding=(1, 1))\n",
      "  (conv2_1_layer): Conv2d(32, 64, kernel_size=(3, 3), stride=(1, 1), padding=(1, 1))\n",
      "  (conv2_2_layer): Conv2d(32, 64, kernel_size=(3, 3), stride=(1, 1), padding=(1, 1))\n",
      "  (conv3_1_layer): Conv2d(64, 256, kernel_size=(3, 3), stride=(1, 1), padding=(1, 1))\n",
      "  (conv3_2_layer): Conv2d(64, 256, kernel_size=(3, 3), stride=(1, 1), padding=(1, 1))\n",
      "  (linear1): Linear(in_features=25088, out_features=1000, bias=True)\n",
      "  (linear2): Linear(in_features=1000, out_features=500, bias=True)\n",
      "  (out): Linear(in_features=500, out_features=10, bias=True)\n",
      ")\n"
     ]
    }
   ],
   "source": [
    "\n",
    "net = model.Model(parameters)\n",
    "print(net)\n"
   ]
  },
  {
   "cell_type": "code",
   "execution_count": null,
   "metadata": {},
   "outputs": [],
   "source": []
  },
  {
   "cell_type": "code",
   "execution_count": 6,
   "metadata": {},
   "outputs": [],
   "source": [
    "optimizer = model.default_optimizer(net)"
   ]
  },
  {
   "cell_type": "code",
   "execution_count": 7,
   "metadata": {
    "scrolled": true
   },
   "outputs": [
    {
     "name": "stderr",
     "output_type": "stream",
     "text": [
      "../mnist/cnn_model.py:72: UserWarning: Implicit dimension choice for log_softmax has been deprecated. Change the call to include dim=X as an argument.\n",
      "  return F.log_softmax(o)\n",
      "/Users/remo/anaconda3/lib/python3.6/site-packages/torch/nn/functional.py:52: UserWarning: size_average and reduce args will be deprecated, please use reduction='sum' instead.\n",
      "  warnings.warn(warning.format(ret))\n"
     ]
    },
    {
     "name": "stdout",
     "output_type": "stream",
     "text": [
      "\n",
      "Test set: Avg. loss: 2.3022, Accuracy: 1188/10000 (11%)\n",
      "\n",
      "Train epoch: 1 [0/60000 (0%)]\t Loss: 2.287410\n",
      "Train epoch: 1 [4000/60000 (7%)]\t Loss: 0.134765\n",
      "Train epoch: 1 [8000/60000 (13%)]\t Loss: 0.007893\n",
      "Train epoch: 1 [12000/60000 (20%)]\t Loss: 0.005394\n",
      "\n",
      "Test set: Avg. loss: 0.1611, Accuracy: 9504/10000 (95%)\n",
      "\n"
     ]
    }
   ],
   "source": [
    "model.run_train_and_eval(net, optimizer, 2, test_loader, train_loader)"
   ]
  },
  {
   "cell_type": "code",
   "execution_count": 2,
   "metadata": {},
   "outputs": [
    {
     "name": "stdout",
     "output_type": "stream",
     "text": [
      "tensor([[0.9579, 0.4118, 0.9169, 0.3666],\n",
      "        [0.1123, 0.7631, 0.6005, 0.4715],\n",
      "        [0.9969, 0.6530, 0.1580, 0.1728],\n",
      "        [0.4652, 0.0933, 0.2841, 0.3682],\n",
      "        [0.2896, 0.3277, 0.6467, 0.1904]])\n"
     ]
    }
   ],
   "source": [
    "print(x)"
   ]
  }
 ],
 "metadata": {
  "kernelspec": {
   "display_name": "Python 3",
   "language": "python",
   "name": "python3"
  },
  "language_info": {
   "codemirror_mode": {
    "name": "ipython",
    "version": 3
   },
   "file_extension": ".py",
   "mimetype": "text/x-python",
   "name": "python",
   "nbconvert_exporter": "python",
   "pygments_lexer": "ipython3",
   "version": "3.6.5"
  }
 },
 "nbformat": 4,
 "nbformat_minor": 2
}
